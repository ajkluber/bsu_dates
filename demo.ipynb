{
 "cells": [
  {
   "cell_type": "code",
   "execution_count": 7,
   "metadata": {},
   "outputs": [],
   "source": [
    "import os\n",
    "import sys\n",
    "sys.path.append(os.environ['MY_MODULE_PATH'])"
   ]
  },
  {
   "cell_type": "code",
   "execution_count": 9,
   "metadata": {},
   "outputs": [
    {
     "output_type": "execute_result",
     "data": {
      "text/plain": "     Term Semester  Year                 DateName       Date          Tags\n0  201210     Fall  2012               Term Start 2012-08-20   Instruction\n1  201210     Fall  2012            Classes Start 2012-08-20   Instruction\n2  201210     Fall  2012  Late Registration Start 2012-08-20  Registration\n3  201210     Fall  2012    Late Registration End 2012-08-24  Registration\n4  201210     Fall  2012              Break Start 2012-10-22   Instruction",
      "text/html": "<div>\n<style scoped>\n    .dataframe tbody tr th:only-of-type {\n        vertical-align: middle;\n    }\n\n    .dataframe tbody tr th {\n        vertical-align: top;\n    }\n\n    .dataframe thead th {\n        text-align: right;\n    }\n</style>\n<table border=\"1\" class=\"dataframe\">\n  <thead>\n    <tr style=\"text-align: right;\">\n      <th></th>\n      <th>Term</th>\n      <th>Semester</th>\n      <th>Year</th>\n      <th>DateName</th>\n      <th>Date</th>\n      <th>Tags</th>\n    </tr>\n  </thead>\n  <tbody>\n    <tr>\n      <th>0</th>\n      <td>201210</td>\n      <td>Fall</td>\n      <td>2012</td>\n      <td>Term Start</td>\n      <td>2012-08-20</td>\n      <td>Instruction</td>\n    </tr>\n    <tr>\n      <th>1</th>\n      <td>201210</td>\n      <td>Fall</td>\n      <td>2012</td>\n      <td>Classes Start</td>\n      <td>2012-08-20</td>\n      <td>Instruction</td>\n    </tr>\n    <tr>\n      <th>2</th>\n      <td>201210</td>\n      <td>Fall</td>\n      <td>2012</td>\n      <td>Late Registration Start</td>\n      <td>2012-08-20</td>\n      <td>Registration</td>\n    </tr>\n    <tr>\n      <th>3</th>\n      <td>201210</td>\n      <td>Fall</td>\n      <td>2012</td>\n      <td>Late Registration End</td>\n      <td>2012-08-24</td>\n      <td>Registration</td>\n    </tr>\n    <tr>\n      <th>4</th>\n      <td>201210</td>\n      <td>Fall</td>\n      <td>2012</td>\n      <td>Break Start</td>\n      <td>2012-10-22</td>\n      <td>Instruction</td>\n    </tr>\n  </tbody>\n</table>\n</div>"
     },
     "metadata": {},
     "execution_count": 9
    }
   ],
   "source": [
    "from bsu_dates import BSUCalendar\n",
    "cal = BSUCalendar()\n",
    "cal.dates_df.head()"
   ]
  },
  {
   "cell_type": "code",
   "execution_count": 10,
   "metadata": {},
   "outputs": [
    {
     "output_type": "execute_result",
     "data": {
      "text/plain": "Term End                    30\nTerm Start                  30\nFinal Grades Due            30\nFinals Start                20\nFinals End                  20\nBreak End                   20\nClasses Start               20\nClasses End                 20\nWithdraw Deadline           20\nBreak Start                 20\nLate Registration Start     10\nLate Registration End       10\nLabor Day                   10\nThanksgiving Break End      10\nThanksgiving Break Start    10\nThanksgiving                10\nIndependence Day            10\nMLK Day                     10\nName: DateName, dtype: int64"
     },
     "metadata": {},
     "execution_count": 10
    }
   ],
   "source": [
    "cal.dates_df.DateName.value_counts()"
   ]
  }
 ],
 "metadata": {
  "language_info": {
   "codemirror_mode": {
    "name": "ipython",
    "version": 3
   },
   "file_extension": ".py",
   "mimetype": "text/x-python",
   "name": "python",
   "nbconvert_exporter": "python",
   "pygments_lexer": "ipython3",
   "version": "3.7.6-final"
  },
  "orig_nbformat": 2,
  "kernelspec": {
   "name": "python37664bitprophetconda307e64dba46245dea6084617c6502e21",
   "display_name": "Python 3.7.6 64-bit ('prophet': conda)"
  }
 },
 "nbformat": 4,
 "nbformat_minor": 2
}