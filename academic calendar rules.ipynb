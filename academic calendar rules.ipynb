{
 "cells": [
  {
   "cell_type": "markdown",
   "metadata": {},
   "source": [
    "# Ball State Academic Calendar\n",
    "\n",
    "* What are the rules that determine important dates (e.g. first/last day of term)?\n",
    "* Do holidays line up with official federal dates?"
   ]
  },
  {
   "cell_type": "code",
   "execution_count": 1,
   "metadata": {},
   "outputs": [],
   "source": [
    "import os\n",
    "import pathlib\n",
    "import datetime\n",
    "import dateutil\n",
    "import calendar\n",
    "import holidays\n",
    "from dateutil import rrule"
   ]
  },
  {
   "cell_type": "code",
   "execution_count": 2,
   "metadata": {},
   "outputs": [],
   "source": [
    "import sys\n",
    "sys.path.append(os.environ['MY_MODULE_PATH'])"
   ]
  },
  {
   "cell_type": "code",
   "execution_count": 3,
   "metadata": {},
   "outputs": [],
   "source": [
    "import importlib"
   ]
  },
  {
   "cell_type": "code",
   "execution_count": 7,
   "metadata": {},
   "outputs": [
    {
     "output_type": "execute_result",
     "data": {
      "text/plain": "<module 'bsu_dates' from 'C:\\\\Users\\\\ajkluber\\\\MyModules\\\\bsu_dates\\\\__init__.py'>"
     },
     "metadata": {},
     "execution_count": 7
    }
   ],
   "source": [
    "importlib.reload(bsu_dates)"
   ]
  },
  {
   "cell_type": "code",
   "execution_count": 8,
   "metadata": {},
   "outputs": [],
   "source": [
    "import bsu_dates"
   ]
  },
  {
   "cell_type": "code",
   "execution_count": 9,
   "metadata": {},
   "outputs": [
    {
     "output_type": "stream",
     "name": "stderr",
     "text": "_irule args: {'freq': 0, 'bymonth': 11, 'byweekday': TH(+4), 'dtstart': datetime.date(2012, 8, 1), 'count': 10}\n_irule args: {'freq': 0, 'bymonth': 9, 'byweekday': MO(+1), 'dtstart': datetime.date(2012, 8, 1), 'count': 10}\n_irule args: {'freq': 0, 'bymonth': 1, 'byweekday': MO(+3), 'dtstart': datetime.date(2012, 8, 1), 'count': 10}\n_irule args: {'freq': 0, 'bymonth': 3, 'byweekday': MO(-1), 'dtstart': datetime.date(2012, 8, 1), 'count': 10}\n_irule args: {'freq': 0, 'bymonth': 7, 'bymonthday': 4, 'dtstart': datetime.date(2012, 8, 1), 'count': 10}\n_irule args: {'freq': 0, 'bymonth': 8, 'byweekday': MO(-2), 'dtstart': datetime.date(2012, 8, 1), 'count': 10}\n_irule args: {'freq': 0, 'bymonth': 10, 'byweekday': MO(-2), 'dtstart': datetime.date(2012, 8, 1), 'count': 10}\n_irule args: {'freq': 0, 'bymonth': 3, 'byweekday': MO(+3), 'dtstart': datetime.date(2012, 8, 1), 'count': 10}\n"
    }
   ],
   "source": [
    "cal = bsu_dates.BSUCalendar(log_level='DEBUG')"
   ]
  },
  {
   "cell_type": "code",
   "execution_count": 86,
   "metadata": {},
   "outputs": [
    {
     "output_type": "stream",
     "name": "stderr",
     "text": "2020-04-23 12:27:09,468 - bsu_dates - DEBUG - irule args: {'freq': 0, 'bymonth': 1, 'byweekday': MO(+3), 'dtstart': datetime.date(2012, 1, 1), 'count': 1}\n2020-04-23 12:27:09,468 - bsu_dates - DEBUG - irule args: {'freq': 0, 'bymonth': 1, 'byweekday': MO(+3), 'dtstart': datetime.date(2012, 1, 1), 'count': 1}\n2020-04-23 12:27:09,468 - bsu_dates - DEBUG - irule args: {'freq': 0, 'bymonth': 1, 'byweekday': MO(+3), 'dtstart': datetime.date(2012, 1, 1), 'count': 1}\n2020-04-23 12:27:09,468 - bsu_dates - DEBUG - irule args: {'freq': 0, 'bymonth': 1, 'byweekday': MO(+3), 'dtstart': datetime.date(2012, 1, 1), 'count': 1}\n2020-04-23 12:27:09,468 - bsu_dates - DEBUG - irule args: {'freq': 0, 'bymonth': 1, 'byweekday': MO(+3), 'dtstart': datetime.date(2012, 1, 1), 'count': 1}\nDEBUG:bsu_dates:irule args: {'freq': 0, 'bymonth': 1, 'byweekday': MO(+3), 'dtstart': datetime.date(2012, 1, 1), 'count': 1}\n"
    },
    {
     "output_type": "execute_result",
     "data": {
      "text/plain": "datetime.datetime(2012, 1, 16, 0, 0)"
     },
     "metadata": {},
     "execution_count": 86
    }
   ],
   "source": [
    "cal.get_holiday(\"MLK Day\", 2012)"
   ]
  },
  {
   "cell_type": "code",
   "execution_count": 90,
   "metadata": {},
   "outputs": [
    {
     "output_type": "stream",
     "name": "stdout",
     "text": "['a']\n"
    }
   ],
   "source": [
    "this = {'a': 2}\n",
    "print(list(this.keys()))"
   ]
  },
  {
   "cell_type": "code",
   "execution_count": 28,
   "metadata": {},
   "outputs": [],
   "source": [
    "def month_day_year_to_iso(mdy):\n",
    "    return '{2}-{0}-{1}'.format(*mdy.split('/'))"
   ]
  },
  {
   "cell_type": "code",
   "execution_count": 67,
   "metadata": {},
   "outputs": [],
   "source": [
    "def pad_cal(yr, month, width=24):\n",
    "    \"\"\"Pad calendar string to print nicely\"\"\"\n",
    "    return [ ln.ljust(width, ' ').rjust(width, ' ') for ln in calendar.month(yr, month).split('\\n') ]"
   ]
  },
  {
   "cell_type": "code",
   "execution_count": 74,
   "metadata": {},
   "outputs": [
    {
     "output_type": "execute_result",
     "data": {
      "text/plain": "'    January 2012\\nMo Tu We Th Fr Sa Su\\n                   1\\n 2  3  4  5  6  7  8\\n 9 10 11 12 13 14 15\\n16 17 18 19 20 21 22\\n23 24 25 26 27 28 29\\n30 31\\n'"
     },
     "metadata": {},
     "execution_count": 74
    }
   ],
   "source": [
    "calendar.month(2012, 1)"
   ]
  },
  {
   "cell_type": "code",
   "execution_count": 75,
   "metadata": {},
   "outputs": [
    {
     "output_type": "stream",
     "name": "stdout",
     "text": "asdf\n"
    }
   ],
   "source": [
    "print(\"  asdf\")"
   ]
  },
  {
   "cell_type": "code",
   "execution_count": 30,
   "metadata": {},
   "outputs": [],
   "source": [
    "def print_months(month, yr_start, yr_end):\n",
    "    if yr_end - yr_start > 4:\n",
    "        yr_end = yr_start + 4 \n",
    "    return [ ''.join(args) for args in zip(*[pad_cal(yr, month) for yr in range(yr_start, yr_end + 1)]) ]"
   ]
  },
  {
   "cell_type": "code",
   "execution_count": 76,
   "metadata": {},
   "outputs": [],
   "source": [
    "def pretty_year(year, month_start, month_end):\n",
    "    return [ ''.join(args) for args in zip(*[pad_cal(year, mon) for mon in range(month_start, month_end)]) ]"
   ]
  },
  {
   "cell_type": "code",
   "execution_count": 78,
   "metadata": {},
   "outputs": [],
   "source": [
    "def print_year(year, month_start, month_end):\n",
    "    for line in pretty_year(year, month_start, month_end):\n",
    "        print(line)"
   ]
  },
  {
   "cell_type": "markdown",
   "metadata": {},
   "source": [
    "## Important date repeating rules\n",
    "Rules determining important dates for each term:\n",
    "- Start date\n",
    "    - Fall: Second to last Monday of August\n",
    "    - Spring:\n",
    "    - Summer:\n",
    "- End date\n",
    "    - Fall: 116 days from the start\n",
    "- Breaks/Holidays\n",
    "    - Fall: \n",
    "        - Fall break: Second to last Monday of Oct and following Tues\n",
    "        - Thanksgiving:\n",
    "        - Labor day\n",
    "    - Spring:\n",
    "        - Spring break: Eight weeks after the start of classes\n",
    "- Finals week is the last Tues-Fri of the term\n",
    "- Midterm grades due by the end of the eighth week of semester\n",
    "- Final grades dues the monday after semester ends\n",
    "- Late registration window is the first week of classes\n",
    "- Withdraw deadline\n",
    "    - Fall: Wed after Fall break\n",
    "    - Spring: Third Mond March\n",
    "    - Summer:"
   ]
  },
  {
   "cell_type": "code",
   "execution_count": 80,
   "metadata": {},
   "outputs": [
    {
     "output_type": "stream",
     "name": "stdout",
     "text": "January 2013           February 2013             March 2013              April 2013               May 2013               June 2013          \nMo Tu We Th Fr Sa Su    Mo Tu We Th Fr Sa Su    Mo Tu We Th Fr Sa Su    Mo Tu We Th Fr Sa Su    Mo Tu We Th Fr Sa Su    Mo Tu We Th Fr Sa Su    \n    1  2  3  4  5  6                 1  2  3                 1  2  3     1  2  3  4  5  6  7           1  2  3  4  5                    1  2    \n 7  8  9 10 11 12 13     4  5  6  7  8  9 10     4  5  6  7  8  9 10     8  9 10 11 12 13 14     6  7  8  9 10 11 12     3  4  5  6  7  8  9    \n14 15 16 17 18 19 20    11 12 13 14 15 16 17    11 12 13 14 15 16 17    15 16 17 18 19 20 21    13 14 15 16 17 18 19    10 11 12 13 14 15 16    \n21 22 23 24 25 26 27    18 19 20 21 22 23 24    18 19 20 21 22 23 24    22 23 24 25 26 27 28    20 21 22 23 24 25 26    17 18 19 20 21 22 23    \n28 29 30 31             25 26 27 28             25 26 27 28 29 30 31    29 30                   27 28 29 30 31          24 25 26 27 28 29 30    \n                                                                                                                                                \n    January 2014           February 2014             March 2014              April 2014               May 2014               June 2014          \nMo Tu We Th Fr Sa Su    Mo Tu We Th Fr Sa Su    Mo Tu We Th Fr Sa Su    Mo Tu We Th Fr Sa Su    Mo Tu We Th Fr Sa Su    Mo Tu We Th Fr Sa Su    \n       1  2  3  4  5                    1  2                    1  2        1  2  3  4  5  6              1  2  3  4                       1    \n 6  7  8  9 10 11 12     3  4  5  6  7  8  9     3  4  5  6  7  8  9     7  8  9 10 11 12 13     5  6  7  8  9 10 11     2  3  4  5  6  7  8    \n13 14 15 16 17 18 19    10 11 12 13 14 15 16    10 11 12 13 14 15 16    14 15 16 17 18 19 20    12 13 14 15 16 17 18     9 10 11 12 13 14 15    \n20 21 22 23 24 25 26    17 18 19 20 21 22 23    17 18 19 20 21 22 23    21 22 23 24 25 26 27    19 20 21 22 23 24 25    16 17 18 19 20 21 22    \n27 28 29 30 31          24 25 26 27 28          24 25 26 27 28 29 30    28 29 30                26 27 28 29 30 31       23 24 25 26 27 28 29    \n                                                31                                                                      30                      \n    January 2015           February 2015             March 2015              April 2015               May 2015               June 2015          \nMo Tu We Th Fr Sa Su    Mo Tu We Th Fr Sa Su    Mo Tu We Th Fr Sa Su    Mo Tu We Th Fr Sa Su    Mo Tu We Th Fr Sa Su    Mo Tu We Th Fr Sa Su    \n          1  2  3  4                       1                       1           1  2  3  4  5                 1  2  3     1  2  3  4  5  6  7    \n 5  6  7  8  9 10 11     2  3  4  5  6  7  8     2  3  4  5  6  7  8     6  7  8  9 10 11 12     4  5  6  7  8  9 10     8  9 10 11 12 13 14    \n12 13 14 15 16 17 18     9 10 11 12 13 14 15     9 10 11 12 13 14 15    13 14 15 16 17 18 19    11 12 13 14 15 16 17    15 16 17 18 19 20 21    \n19 20 21 22 23 24 25    16 17 18 19 20 21 22    16 17 18 19 20 21 22    20 21 22 23 24 25 26    18 19 20 21 22 23 24    22 23 24 25 26 27 28    \n26 27 28 29 30 31       23 24 25 26 27 28       23 24 25 26 27 28 29    27 28 29 30             25 26 27 28 29 30 31    29 30                   \n                                                30 31                                                                                           \n    January 2016           February 2016             March 2016              April 2016               May 2016               June 2016          \nMo Tu We Th Fr Sa Su    Mo Tu We Th Fr Sa Su    Mo Tu We Th Fr Sa Su    Mo Tu We Th Fr Sa Su    Mo Tu We Th Fr Sa Su    Mo Tu We Th Fr Sa Su    \n             1  2  3     1  2  3  4  5  6  7        1  2  3  4  5  6                 1  2  3                       1           1  2  3  4  5    \n 4  5  6  7  8  9 10     8  9 10 11 12 13 14     7  8  9 10 11 12 13     4  5  6  7  8  9 10     2  3  4  5  6  7  8     6  7  8  9 10 11 12    \n11 12 13 14 15 16 17    15 16 17 18 19 20 21    14 15 16 17 18 19 20    11 12 13 14 15 16 17     9 10 11 12 13 14 15    13 14 15 16 17 18 19    \n18 19 20 21 22 23 24    22 23 24 25 26 27 28    21 22 23 24 25 26 27    18 19 20 21 22 23 24    16 17 18 19 20 21 22    20 21 22 23 24 25 26    \n25 26 27 28 29 30 31    29                      28 29 30 31             25 26 27 28 29 30       23 24 25 26 27 28 29    27 28 29 30             \n                                                                                                30 31                                           \n    January 2017           February 2017             March 2017              April 2017               May 2017               June 2017          \nMo Tu We Th Fr Sa Su    Mo Tu We Th Fr Sa Su    Mo Tu We Th Fr Sa Su    Mo Tu We Th Fr Sa Su    Mo Tu We Th Fr Sa Su    Mo Tu We Th Fr Sa Su    \n                   1           1  2  3  4  5           1  2  3  4  5                    1  2     1  2  3  4  5  6  7              1  2  3  4    \n 2  3  4  5  6  7  8     6  7  8  9 10 11 12     6  7  8  9 10 11 12     3  4  5  6  7  8  9     8  9 10 11 12 13 14     5  6  7  8  9 10 11    \n 9 10 11 12 13 14 15    13 14 15 16 17 18 19    13 14 15 16 17 18 19    10 11 12 13 14 15 16    15 16 17 18 19 20 21    12 13 14 15 16 17 18    \n16 17 18 19 20 21 22    20 21 22 23 24 25 26    20 21 22 23 24 25 26    17 18 19 20 21 22 23    22 23 24 25 26 27 28    19 20 21 22 23 24 25    \n23 24 25 26 27 28 29    27 28                   27 28 29 30 31          24 25 26 27 28 29 30    29 30 31                26 27 28 29 30          \n30 31                                                                                                                                           \n    January 2018           February 2018             March 2018              April 2018               May 2018               June 2018          \nMo Tu We Th Fr Sa Su    Mo Tu We Th Fr Sa Su    Mo Tu We Th Fr Sa Su    Mo Tu We Th Fr Sa Su    Mo Tu We Th Fr Sa Su    Mo Tu We Th Fr Sa Su    \n 1  2  3  4  5  6  7              1  2  3  4              1  2  3  4                       1        1  2  3  4  5  6                 1  2  3    \n 8  9 10 11 12 13 14     5  6  7  8  9 10 11     5  6  7  8  9 10 11     2  3  4  5  6  7  8     7  8  9 10 11 12 13     4  5  6  7  8  9 10    \n15 16 17 18 19 20 21    12 13 14 15 16 17 18    12 13 14 15 16 17 18     9 10 11 12 13 14 15    14 15 16 17 18 19 20    11 12 13 14 15 16 17    \n22 23 24 25 26 27 28    19 20 21 22 23 24 25    19 20 21 22 23 24 25    16 17 18 19 20 21 22    21 22 23 24 25 26 27    18 19 20 21 22 23 24    \n29 30 31                26 27 28                26 27 28 29 30 31       23 24 25 26 27 28 29    28 29 30 31             25 26 27 28 29 30       \n                                                                        30                                                                      \n    January 2019           February 2019             March 2019              April 2019               May 2019               June 2019          \nMo Tu We Th Fr Sa Su    Mo Tu We Th Fr Sa Su    Mo Tu We Th Fr Sa Su    Mo Tu We Th Fr Sa Su    Mo Tu We Th Fr Sa Su    Mo Tu We Th Fr Sa Su    \n    1  2  3  4  5  6                 1  2  3                 1  2  3     1  2  3  4  5  6  7           1  2  3  4  5                    1  2    \n 7  8  9 10 11 12 13     4  5  6  7  8  9 10     4  5  6  7  8  9 10     8  9 10 11 12 13 14     6  7  8  9 10 11 12     3  4  5  6  7  8  9    \n14 15 16 17 18 19 20    11 12 13 14 15 16 17    11 12 13 14 15 16 17    15 16 17 18 19 20 21    13 14 15 16 17 18 19    10 11 12 13 14 15 16    \n21 22 23 24 25 26 27    18 19 20 21 22 23 24    18 19 20 21 22 23 24    22 23 24 25 26 27 28    20 21 22 23 24 25 26    17 18 19 20 21 22 23    \n28 29 30 31             25 26 27 28             25 26 27 28 29 30 31    29 30                   27 28 29 30 31          24 25 26 27 28 29 30    \n                                                                                                                                                \n"
    }
   ],
   "source": [
    "for yr in range(2013, 2020):\n",
    "    print_year(yr, 1, 7)"
   ]
  },
  {
   "cell_type": "code",
   "execution_count": null,
   "metadata": {},
   "outputs": [],
   "source": [
    "print_year(2013, 1, 7)"
   ]
  },
  {
   "cell_type": "code",
   "execution_count": 82,
   "metadata": {},
   "outputs": [
    {
     "output_type": "execute_result",
     "data": {
      "text/plain": "'mlk_day'"
     },
     "metadata": {},
     "execution_count": 82
    }
   ],
   "source": [
    "\"MLK Day\".lower().replace(' ', '_')"
   ]
  },
  {
   "cell_type": "markdown",
   "metadata": {},
   "source": [
    "## First day of fall term is the second to last Monday of August "
   ]
  },
  {
   "cell_type": "code",
   "execution_count": 195,
   "metadata": {},
   "outputs": [
    {
     "data": {
      "text/plain": [
       "True"
      ]
     },
     "execution_count": 195,
     "metadata": {},
     "output_type": "execute_result"
    }
   ],
   "source": [
    "isinstance(datetime.timedelta(days=-1), datetime.timedelta)"
   ]
  },
  {
   "cell_type": "code",
   "execution_count": 69,
   "metadata": {},
   "outputs": [
    {
     "data": {
      "text/plain": [
       "[0, 0, 0, 0, 0, 0, 0, 0]"
      ]
     },
     "execution_count": 69,
     "metadata": {},
     "output_type": "execute_result"
    }
   ],
   "source": [
    "# first day is always a monday\n",
    "[ d.weekday() for d in first_days ]"
   ]
  },
  {
   "cell_type": "code",
   "execution_count": 55,
   "metadata": {},
   "outputs": [
    {
     "data": {
      "text/plain": [
       "[datetime.date(2012, 8, 19),\n",
       " datetime.date(2013, 8, 19),\n",
       " datetime.date(2014, 8, 18),\n",
       " datetime.date(2015, 8, 24),\n",
       " datetime.date(2016, 8, 22),\n",
       " datetime.date(2017, 8, 21),\n",
       " datetime.date(2018, 8, 20),\n",
       " datetime.date(2019, 8, 19)]"
      ]
     },
     "execution_count": 55,
     "metadata": {},
     "output_type": "execute_result"
    }
   ],
   "source": [
    "first_days"
   ]
  },
  {
   "cell_type": "code",
   "execution_count": 145,
   "metadata": {},
   "outputs": [
    {
     "data": {
      "text/plain": [
       "[datetime.datetime(2012, 8, 27, 0, 0),\n",
       " datetime.datetime(2013, 8, 26, 0, 0),\n",
       " datetime.datetime(2014, 8, 25, 0, 0),\n",
       " datetime.datetime(2015, 8, 31, 0, 0),\n",
       " datetime.datetime(2016, 8, 29, 0, 0)]"
      ]
     },
     "execution_count": 145,
     "metadata": {},
     "output_type": "execute_result"
    }
   ],
   "source": [
    "list(rrule.rrule(rrule.YEARLY, dtstart=datetime.date(2012, 8, 1), count=5, bymonth=8, byweekday=rrule.MO(-1)))"
   ]
  },
  {
   "cell_type": "code",
   "execution_count": 51,
   "metadata": {},
   "outputs": [
    {
     "data": {
      "text/plain": [
       "['    August 2012             August 2013             August 2014             August 2015             August 2016         ',\n",
       " 'Mo Tu We Th Fr Sa Su    Mo Tu We Th Fr Sa Su    Mo Tu We Th Fr Sa Su    Mo Tu We Th Fr Sa Su    Mo Tu We Th Fr Sa Su    ',\n",
       " '       1  2  3  4  5              1  2  3  4                 1  2  3                    1  2     1  2  3  4  5  6  7    ',\n",
       " ' 6  7  8  9 10 11 12     5  6  7  8  9 10 11     4  5  6  7  8  9 10     3  4  5  6  7  8  9     8  9 10 11 12 13 14    ',\n",
       " '13 14 15 16 17 18 19    12 13 14 15 16 17 18    11 12 13 14 15 16 17    10 11 12 13 14 15 16    15 16 17 18 19 20 21    ',\n",
       " '20 21 22 23 24 25 26    19 20 21 22 23 24 25    18 19 20 21 22 23 24    17 18 19 20 21 22 23    22 23 24 25 26 27 28    ',\n",
       " '27 28 29 30 31          26 27 28 29 30 31       25 26 27 28 29 30 31    24 25 26 27 28 29 30    29 30 31                ',\n",
       " '                                                                        31                                              ']"
      ]
     },
     "execution_count": 51,
     "metadata": {},
     "output_type": "execute_result"
    }
   ],
   "source": [
    "[ ''.join(args) for args in zip(*[pad_cal(yr, 8) for yr in range(2012, 2017)]) ]"
   ]
  },
  {
   "cell_type": "code",
   "execution_count": 56,
   "metadata": {
    "scrolled": true
   },
   "outputs": [
    {
     "data": {
      "text/plain": [
       "['    August 2017             August 2018             August 2019             August 2020         ',\n",
       " 'Mo Tu We Th Fr Sa Su    Mo Tu We Th Fr Sa Su    Mo Tu We Th Fr Sa Su    Mo Tu We Th Fr Sa Su    ',\n",
       " '    1  2  3  4  5  6           1  2  3  4  5              1  2  3  4                    1  2    ',\n",
       " ' 7  8  9 10 11 12 13     6  7  8  9 10 11 12     5  6  7  8  9 10 11     3  4  5  6  7  8  9    ',\n",
       " '14 15 16 17 18 19 20    13 14 15 16 17 18 19    12 13 14 15 16 17 18    10 11 12 13 14 15 16    ',\n",
       " '21 22 23 24 25 26 27    20 21 22 23 24 25 26    19 20 21 22 23 24 25    17 18 19 20 21 22 23    ',\n",
       " '28 29 30 31             27 28 29 30 31          26 27 28 29 30 31       24 25 26 27 28 29 30    ',\n",
       " '                                                                        31                      ']"
      ]
     },
     "execution_count": 56,
     "metadata": {},
     "output_type": "execute_result"
    }
   ],
   "source": [
    "[ ''.join(args) for args in zip(*[pad_cal(yr, 8) for yr in range(2017, 2021)]) ]"
   ]
  },
  {
   "cell_type": "code",
   "execution_count": 103,
   "metadata": {},
   "outputs": [
    {
     "data": {
      "text/plain": [
       "[datetime.date(2012, 10, 12),\n",
       " datetime.date(2013, 10, 11),\n",
       " datetime.date(2014, 10, 10),\n",
       " datetime.date(2015, 10, 16),\n",
       " datetime.date(2016, 10, 14),\n",
       " datetime.date(2017, 10, 13),\n",
       " datetime.date(2018, 10, 12),\n",
       " datetime.date(2019, 10, 11)]"
      ]
     },
     "execution_count": 103,
     "metadata": {},
     "output_type": "execute_result"
    }
   ],
   "source": [
    "# midterm grades are due at the end of the eighth week of classes. \n",
    "# first of class is week=1, so add 4 days and 7 weeks from first day.\n",
    "[ d + datetime.timedelta(weeks=7) + datetime.timedelta(days=4) for d in first_days ]"
   ]
  },
  {
   "cell_type": "markdown",
   "metadata": {},
   "source": [
    "## Spring starts 24 days after fall ends"
   ]
  },
  {
   "cell_type": "code",
   "execution_count": 182,
   "metadata": {},
   "outputs": [],
   "source": [
    "spring_first = [ datetime.date.fromisoformat(d) for d in ['2013-01-07',\n",
    "                                                        '2014-01-06',\n",
    "                                                        '2015-01-05',\n",
    "                                                        '2016-01-11',\n",
    "                                                        '2017-01-09',\n",
    "                                                        '2018-01-08',\n",
    "                                                        '2019-01-07']\n",
    "               ]\n",
    "\n",
    "spring_last = [ datetime.date.fromisoformat(d) for d in ['2013-05-03',\n",
    "                                                        '2014-05-02',\n",
    "                                                        '2015-05-01',\n",
    "                                                        '2016-05-06',\n",
    "                                                        '2017-05-05',\n",
    "                                                        '2018-05-04',\n",
    "                                                        '2019-05-03']\n",
    "               ]"
   ]
  },
  {
   "cell_type": "code",
   "execution_count": 183,
   "metadata": {},
   "outputs": [
    {
     "data": {
      "text/plain": [
       "[24, 24, 24, 24, 24, 24, 24]"
      ]
     },
     "execution_count": 183,
     "metadata": {},
     "output_type": "execute_result"
    }
   ],
   "source": [
    "# spring starts 24 days after fall ends\n",
    "[ (y - x).days for x,y in zip(last_days, spring_first) ]"
   ]
  },
  {
   "cell_type": "code",
   "execution_count": 184,
   "metadata": {},
   "outputs": [
    {
     "data": {
      "text/plain": [
       "[116, 116, 116, 116, 116, 116, 116]"
      ]
     },
     "execution_count": 184,
     "metadata": {},
     "output_type": "execute_result"
    }
   ],
   "source": [
    "# spring term is 116 days long!\n",
    "[ (y - x).days for x,y in zip(spring_first, spring_last) ]"
   ]
  },
  {
   "cell_type": "code",
   "execution_count": 175,
   "metadata": {},
   "outputs": [
    {
     "data": {
      "text/plain": [
       "['    January 2012            January 2013            January 2014            January 2015            January 2016        ',\n",
       " 'Mo Tu We Th Fr Sa Su    Mo Tu We Th Fr Sa Su    Mo Tu We Th Fr Sa Su    Mo Tu We Th Fr Sa Su    Mo Tu We Th Fr Sa Su    ',\n",
       " '                   1        1  2  3  4  5  6           1  2  3  4  5              1  2  3  4                 1  2  3    ',\n",
       " ' 2  3  4  5  6  7  8     7  8  9 10 11 12 13     6  7  8  9 10 11 12     5  6  7  8  9 10 11     4  5  6  7  8  9 10    ',\n",
       " ' 9 10 11 12 13 14 15    14 15 16 17 18 19 20    13 14 15 16 17 18 19    12 13 14 15 16 17 18    11 12 13 14 15 16 17    ',\n",
       " '16 17 18 19 20 21 22    21 22 23 24 25 26 27    20 21 22 23 24 25 26    19 20 21 22 23 24 25    18 19 20 21 22 23 24    ',\n",
       " '23 24 25 26 27 28 29    28 29 30 31             27 28 29 30 31          26 27 28 29 30 31       25 26 27 28 29 30 31    ',\n",
       " '30 31                                                                                                                   ']"
      ]
     },
     "execution_count": 175,
     "metadata": {},
     "output_type": "execute_result"
    }
   ],
   "source": [
    "print_months(1, 2012, 2016)"
   ]
  },
  {
   "cell_type": "code",
   "execution_count": 177,
   "metadata": {},
   "outputs": [
    {
     "data": {
      "text/plain": [
       "['    January 2017            January 2018            January 2019            January 2020            January 2021        ',\n",
       " 'Mo Tu We Th Fr Sa Su    Mo Tu We Th Fr Sa Su    Mo Tu We Th Fr Sa Su    Mo Tu We Th Fr Sa Su    Mo Tu We Th Fr Sa Su    ',\n",
       " '                   1     1  2  3  4  5  6  7        1  2  3  4  5  6           1  2  3  4  5                 1  2  3    ',\n",
       " ' 2  3  4  5  6  7  8     8  9 10 11 12 13 14     7  8  9 10 11 12 13     6  7  8  9 10 11 12     4  5  6  7  8  9 10    ',\n",
       " ' 9 10 11 12 13 14 15    15 16 17 18 19 20 21    14 15 16 17 18 19 20    13 14 15 16 17 18 19    11 12 13 14 15 16 17    ',\n",
       " '16 17 18 19 20 21 22    22 23 24 25 26 27 28    21 22 23 24 25 26 27    20 21 22 23 24 25 26    18 19 20 21 22 23 24    ',\n",
       " '23 24 25 26 27 28 29    29 30 31                28 29 30 31             27 28 29 30 31          25 26 27 28 29 30 31    ',\n",
       " '30 31                                                                                                                   ']"
      ]
     },
     "execution_count": 177,
     "metadata": {},
     "output_type": "execute_result"
    }
   ],
   "source": [
    "print_months(1, 2017, 2021)"
   ]
  },
  {
   "cell_type": "markdown",
   "metadata": {},
   "source": [
    "## Length of term"
   ]
  },
  {
   "cell_type": "code",
   "execution_count": 71,
   "metadata": {},
   "outputs": [
    {
     "data": {
      "text/plain": [
       "[116, 116, 116, 116, 116, 116, 116, 116]"
      ]
     },
     "execution_count": 71,
     "metadata": {},
     "output_type": "execute_result"
    }
   ],
   "source": [
    "# terms are always 116 days long\n",
    "[ (y - x).days for x,y in zip(first_days, last_days)]"
   ]
  },
  {
   "cell_type": "markdown",
   "metadata": {},
   "source": [
    "## Last day of fall term is 116 days after the start \n",
    "* Term always ends on a friday, last day of class is the preceding monday."
   ]
  },
  {
   "cell_type": "code",
   "execution_count": 78,
   "metadata": {},
   "outputs": [
    {
     "data": {
      "text/plain": [
       "datetime.date(2012, 12, 14)"
      ]
     },
     "execution_count": 78,
     "metadata": {},
     "output_type": "execute_result"
    }
   ],
   "source": [
    "first_days[0] + datetime.timedelta(days=116)"
   ]
  },
  {
   "cell_type": "code",
   "execution_count": 83,
   "metadata": {},
   "outputs": [
    {
     "data": {
      "text/plain": [
       "'datetime.date(2020, 4, 1)'"
      ]
     },
     "execution_count": 83,
     "metadata": {},
     "output_type": "execute_result"
    }
   ],
   "source": [
    "d.__repr__()"
   ]
  },
  {
   "cell_type": "code",
   "execution_count": 68,
   "metadata": {},
   "outputs": [
    {
     "data": {
      "text/plain": [
       "[4, 4, 4, 4, 4, 4, 4, 4]"
      ]
     },
     "execution_count": 68,
     "metadata": {},
     "output_type": "execute_result"
    }
   ],
   "source": [
    "# Last day is always a friday\n",
    "[ d.weekday() for d in last_days ]"
   ]
  },
  {
   "cell_type": "code",
   "execution_count": 84,
   "metadata": {},
   "outputs": [
    {
     "data": {
      "text/plain": [
       "[('2012-12-14', '2012-12-14'),\n",
       " ('2013-12-13', '2013-12-13'),\n",
       " ('2014-12-12', '2014-12-12'),\n",
       " ('2015-12-18', '2015-12-18'),\n",
       " ('2016-12-16', '2016-12-16'),\n",
       " ('2017-12-15', '2017-12-15'),\n",
       " ('2018-12-14', '2018-12-14'),\n",
       " ('2019-12-13', '2019-12-13')]"
      ]
     },
     "execution_count": 84,
     "metadata": {},
     "output_type": "execute_result"
    }
   ],
   "source": [
    "[ (d2.__str__(), (d1 + datetime.timedelta(days=116)).__str__()) for d1, d2 in zip(first_days, last_days) ]"
   ]
  },
  {
   "cell_type": "markdown",
   "metadata": {},
   "source": [
    "## Do holidays line up with official ones?\n",
    "\n",
    "* Labor day always seems to be the same"
   ]
  },
  {
   "cell_type": "code",
   "execution_count": 89,
   "metadata": {},
   "outputs": [],
   "source": [
    "d = labor_days[0]"
   ]
  },
  {
   "cell_type": "code",
   "execution_count": 90,
   "metadata": {},
   "outputs": [],
   "source": [
    "us_hol = holidays.UnitedStates()"
   ]
  },
  {
   "cell_type": "code",
   "execution_count": 92,
   "metadata": {},
   "outputs": [
    {
     "data": {
      "text/plain": [
       "[True, True, True, True, True, True, True, True]"
      ]
     },
     "execution_count": 92,
     "metadata": {},
     "output_type": "execute_result"
    }
   ],
   "source": [
    "[ d in us_hol for d in labor_days ]"
   ]
  },
  {
   "cell_type": "markdown",
   "metadata": {},
   "source": [
    "## Fall break starts second to last Monday of October and lasts two days"
   ]
  },
  {
   "cell_type": "code",
   "execution_count": 99,
   "metadata": {},
   "outputs": [
    {
     "data": {
      "text/plain": [
       "[[datetime.date(2012, 10, 22), datetime.date(2012, 10, 23)],\n",
       " [datetime.date(2013, 10, 21), datetime.date(2013, 10, 22)],\n",
       " [datetime.date(2014, 10, 20), datetime.date(2014, 10, 21)],\n",
       " [datetime.date(2015, 10, 12), datetime.date(2015, 10, 13)],\n",
       " [datetime.date(2016, 10, 10), datetime.date(2016, 10, 11)],\n",
       " [datetime.date(2017, 10, 9), datetime.date(2017, 10, 10)],\n",
       " [datetime.date(2018, 10, 8), datetime.date(2018, 10, 9)],\n",
       " [datetime.date(2019, 10, 7), datetime.date(2019, 10, 8)]]"
      ]
     },
     "execution_count": 99,
     "metadata": {},
     "output_type": "execute_result"
    }
   ],
   "source": [
    "# I must have a bunch of typos\n",
    "fall_break"
   ]
  },
  {
   "cell_type": "code",
   "execution_count": 97,
   "metadata": {
    "scrolled": true
   },
   "outputs": [
    {
     "data": {
      "text/plain": [
       "['    October 2012            October 2013            October 2014            October 2015            October 2016        ',\n",
       " 'Mo Tu We Th Fr Sa Su    Mo Tu We Th Fr Sa Su    Mo Tu We Th Fr Sa Su    Mo Tu We Th Fr Sa Su    Mo Tu We Th Fr Sa Su    ',\n",
       " ' 1  2  3  4  5  6  7        1  2  3  4  5  6           1  2  3  4  5              1  2  3  4                    1  2    ',\n",
       " ' 8  9 10 11 12 13 14     7  8  9 10 11 12 13     6  7  8  9 10 11 12     5  6  7  8  9 10 11     3  4  5  6  7  8  9    ',\n",
       " '15 16 17 18 19 20 21    14 15 16 17 18 19 20    13 14 15 16 17 18 19    12 13 14 15 16 17 18    10 11 12 13 14 15 16    ',\n",
       " '22 23 24 25 26 27 28    21 22 23 24 25 26 27    20 21 22 23 24 25 26    19 20 21 22 23 24 25    17 18 19 20 21 22 23    ',\n",
       " '29 30 31                28 29 30 31             27 28 29 30 31          26 27 28 29 30 31       24 25 26 27 28 29 30    ',\n",
       " '                                                                                                31                      ']"
      ]
     },
     "execution_count": 97,
     "metadata": {},
     "output_type": "execute_result"
    }
   ],
   "source": [
    "[ ''.join(args) for args in zip(*[pad_cal(yr, 10) for yr in range(2012, 2017)]) ]"
   ]
  },
  {
   "cell_type": "code",
   "execution_count": 98,
   "metadata": {
    "scrolled": false
   },
   "outputs": [
    {
     "data": {
      "text/plain": [
       "['    October 2017            October 2018            October 2019            October 2020        ',\n",
       " 'Mo Tu We Th Fr Sa Su    Mo Tu We Th Fr Sa Su    Mo Tu We Th Fr Sa Su    Mo Tu We Th Fr Sa Su    ',\n",
       " '                   1     1  2  3  4  5  6  7        1  2  3  4  5  6              1  2  3  4    ',\n",
       " ' 2  3  4  5  6  7  8     8  9 10 11 12 13 14     7  8  9 10 11 12 13     5  6  7  8  9 10 11    ',\n",
       " ' 9 10 11 12 13 14 15    15 16 17 18 19 20 21    14 15 16 17 18 19 20    12 13 14 15 16 17 18    ',\n",
       " '16 17 18 19 20 21 22    22 23 24 25 26 27 28    21 22 23 24 25 26 27    19 20 21 22 23 24 25    ',\n",
       " '23 24 25 26 27 28 29    29 30 31                28 29 30 31             26 27 28 29 30 31       ',\n",
       " '30 31                                                                                           ']"
      ]
     },
     "execution_count": 98,
     "metadata": {},
     "output_type": "execute_result"
    }
   ],
   "source": [
    "[ ''.join(args) for args in zip(*[pad_cal(yr, 10) for yr in range(2017, 2021)]) ]"
   ]
  },
  {
   "cell_type": "markdown",
   "metadata": {},
   "source": [
    "## Thanksgiving break\n",
    "* Official thanksgiving is always the 4th Thursday of November\n",
    "* Thanksgiving break is always: the Wed before Thanksgiving to the Sunday after"
   ]
  },
  {
   "cell_type": "code",
   "execution_count": 121,
   "metadata": {},
   "outputs": [
    {
     "data": {
      "text/plain": [
       "['Thanksgiving', 'Thanksgiving', 'Thanksgiving', 'Thanksgiving']"
      ]
     },
     "execution_count": 121,
     "metadata": {},
     "output_type": "execute_result"
    }
   ],
   "source": [
    "[us_hol[d] for d in rrule.rrule(rrule.YEARLY, count=4, bymonth=11, byweekday=rrule.TH(4))]"
   ]
  },
  {
   "cell_type": "code",
   "execution_count": 188,
   "metadata": {},
   "outputs": [
    {
     "data": {
      "text/plain": [
       "[datetime.datetime(2012, 11, 21, 0, 0),\n",
       " datetime.datetime(2013, 11, 27, 0, 0),\n",
       " datetime.datetime(2014, 11, 26, 0, 0),\n",
       " datetime.datetime(2015, 11, 25, 0, 0)]"
      ]
     },
     "execution_count": 188,
     "metadata": {},
     "output_type": "execute_result"
    }
   ],
   "source": [
    "[ d - datetime.timedelta(days=1) for d in rrule.rrule(rrule.YEARLY, dtstart=datetime.date(2012, 1, 1), count=4, bymonth=11, byweekday=rrule.TH(4))]"
   ]
  },
  {
   "cell_type": "code",
   "execution_count": 191,
   "metadata": {},
   "outputs": [
    {
     "data": {
      "text/plain": [
       "datetime.date(2012, 11, 22)"
      ]
     },
     "execution_count": 191,
     "metadata": {},
     "output_type": "execute_result"
    }
   ],
   "source": [
    "d.date()"
   ]
  },
  {
   "cell_type": "code",
   "execution_count": 125,
   "metadata": {},
   "outputs": [],
   "source": [
    "thk_rule = rrule.rrule(rrule.YEARLY, dtstart=datetime.date(2012, 1, 1), count=4, bymonth=11, byweekday=rrule.TH(4))"
   ]
  },
  {
   "cell_type": "code",
   "execution_count": 139,
   "metadata": {},
   "outputs": [
    {
     "data": {
      "text/plain": [
       "2020"
      ]
     },
     "execution_count": 139,
     "metadata": {},
     "output_type": "execute_result"
    }
   ],
   "source": [
    "datetime.datetime.now().year"
   ]
  },
  {
   "cell_type": "code",
   "execution_count": 143,
   "metadata": {},
   "outputs": [
    {
     "data": {
      "text/plain": [
       "{'Fall': 10, 'Spring': 20, 'Summer': 30}"
      ]
     },
     "execution_count": 143,
     "metadata": {},
     "output_type": "execute_result"
    }
   ],
   "source": [
    "semesters = ['Fall', 'Spring', 'Summer']\n",
    "{ sem: 10 + x for sem, x in zip(semesters, range(0, 30, 10)) }"
   ]
  },
  {
   "cell_type": "code",
   "execution_count": 109,
   "metadata": {},
   "outputs": [
    {
     "data": {
      "text/plain": [
       "[93, 100, 100, 93, 93, 93, 93, 100]"
      ]
     },
     "execution_count": 109,
     "metadata": {},
     "output_type": "execute_result"
    }
   ],
   "source": [
    "[ (y[0] - x).days for x,y in zip(first_days, thanks) ]"
   ]
  },
  {
   "cell_type": "code",
   "execution_count": 110,
   "metadata": {},
   "outputs": [
    {
     "data": {
      "text/plain": [
       "[[datetime.date(2012, 11, 21), datetime.date(2012, 11, 25)],\n",
       " [datetime.date(2013, 11, 27), datetime.date(2013, 12, 1)],\n",
       " [datetime.date(2014, 11, 26), datetime.date(2014, 11, 30)],\n",
       " [datetime.date(2015, 11, 25), datetime.date(2015, 11, 29)],\n",
       " [datetime.date(2016, 11, 23), datetime.date(2016, 11, 27)],\n",
       " [datetime.date(2017, 11, 22), datetime.date(2017, 11, 26)],\n",
       " [datetime.date(2018, 11, 21), datetime.date(2018, 11, 25)],\n",
       " [datetime.date(2019, 11, 27), datetime.date(2019, 12, 1)]]"
      ]
     },
     "execution_count": 110,
     "metadata": {},
     "output_type": "execute_result"
    }
   ],
   "source": [
    "thanks"
   ]
  },
  {
   "cell_type": "code",
   "execution_count": 106,
   "metadata": {
    "scrolled": true
   },
   "outputs": [
    {
     "data": {
      "text/plain": [
       "['   November 2012           November 2013           November 2014           November 2015           November 2016        ',\n",
       " 'Mo Tu We Th Fr Sa Su    Mo Tu We Th Fr Sa Su    Mo Tu We Th Fr Sa Su    Mo Tu We Th Fr Sa Su    Mo Tu We Th Fr Sa Su    ',\n",
       " '          1  2  3  4                 1  2  3                    1  2                       1        1  2  3  4  5  6    ',\n",
       " ' 5  6  7  8  9 10 11     4  5  6  7  8  9 10     3  4  5  6  7  8  9     2  3  4  5  6  7  8     7  8  9 10 11 12 13    ',\n",
       " '12 13 14 15 16 17 18    11 12 13 14 15 16 17    10 11 12 13 14 15 16     9 10 11 12 13 14 15    14 15 16 17 18 19 20    ',\n",
       " '19 20 21 22 23 24 25    18 19 20 21 22 23 24    17 18 19 20 21 22 23    16 17 18 19 20 21 22    21 22 23 24 25 26 27    ',\n",
       " '26 27 28 29 30          25 26 27 28 29 30       24 25 26 27 28 29 30    23 24 25 26 27 28 29    28 29 30                ',\n",
       " '                                                                        30                                              ']"
      ]
     },
     "execution_count": 106,
     "metadata": {},
     "output_type": "execute_result"
    }
   ],
   "source": [
    "[ ''.join(args) for args in zip(*[pad_cal(yr, 11) for yr in range(2012, 2017)]) ]"
   ]
  },
  {
   "cell_type": "code",
   "execution_count": 107,
   "metadata": {
    "scrolled": false
   },
   "outputs": [
    {
     "data": {
      "text/plain": [
       "['   November 2017           November 2018           November 2019           November 2020        ',\n",
       " 'Mo Tu We Th Fr Sa Su    Mo Tu We Th Fr Sa Su    Mo Tu We Th Fr Sa Su    Mo Tu We Th Fr Sa Su    ',\n",
       " '       1  2  3  4  5              1  2  3  4                 1  2  3                       1    ',\n",
       " ' 6  7  8  9 10 11 12     5  6  7  8  9 10 11     4  5  6  7  8  9 10     2  3  4  5  6  7  8    ',\n",
       " '13 14 15 16 17 18 19    12 13 14 15 16 17 18    11 12 13 14 15 16 17     9 10 11 12 13 14 15    ',\n",
       " '20 21 22 23 24 25 26    19 20 21 22 23 24 25    18 19 20 21 22 23 24    16 17 18 19 20 21 22    ',\n",
       " '27 28 29 30             26 27 28 29 30          25 26 27 28 29 30       23 24 25 26 27 28 29    ',\n",
       " '                                                                        30                      ']"
      ]
     },
     "execution_count": 107,
     "metadata": {},
     "output_type": "execute_result"
    }
   ],
   "source": [
    "[ ''.join(args) for args in zip(*[pad_cal(yr, 11) for yr in range(2017, 2021)]) ]"
   ]
  },
  {
   "cell_type": "code",
   "execution_count": 9,
   "metadata": {},
   "outputs": [],
   "source": [
    "thk = rrule.rrule(rrule.YEARLY, dtstart=datetime.date.fromisoformat('2012-01-01'), count=100, bymonth=11, byweekday=rrule.TH(4))"
   ]
  },
  {
   "cell_type": "code",
   "execution_count": 18,
   "metadata": {},
   "outputs": [],
   "source": [
    "ithk = iter(thk)"
   ]
  },
  {
   "cell_type": "code",
   "execution_count": 33,
   "metadata": {},
   "outputs": [],
   "source": [
    "gthk = (d for d in thk)"
   ]
  },
  {
   "cell_type": "code",
   "execution_count": 38,
   "metadata": {},
   "outputs": [
    {
     "output_type": "execute_result",
     "data": {
      "text/plain": "datetime.datetime(2016, 11, 24, 0, 0)"
     },
     "metadata": {},
     "execution_count": 38
    }
   ],
   "source": [
    "next(gthk)"
   ]
  }
 ],
 "metadata": {
  "kernelspec": {
   "display_name": "Python 3.7.6 64-bit ('prophet': conda)",
   "language": "python",
   "name": "python37664bitprophetconda307e64dba46245dea6084617c6502e21"
  },
  "language_info": {
   "codemirror_mode": {
    "name": "ipython",
    "version": 3
   },
   "file_extension": ".py",
   "mimetype": "text/x-python",
   "name": "python",
   "nbconvert_exporter": "python",
   "pygments_lexer": "ipython3",
   "version": "3.7.6-final"
  }
 },
 "nbformat": 4,
 "nbformat_minor": 4
}