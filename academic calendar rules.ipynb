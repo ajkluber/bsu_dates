{
 "cells": [
  {
   "cell_type": "markdown",
   "metadata": {},
   "source": [
    "# Ball State Academic Calendar\n",
    "\n",
    "* What are the rules that determine important dates (e.g. first/last day of term)?\n",
    "* Do holidays line up with official federal dates?"
   ]
  },
  {
   "cell_type": "code",
   "execution_count": 111,
   "metadata": {},
   "outputs": [],
   "source": [
    "import datetime\n",
    "import dateutil\n",
    "import calendar\n",
    "import holidays\n",
    "from dateutil import rrule"
   ]
  },
  {
   "cell_type": "code",
   "execution_count": 23,
   "metadata": {},
   "outputs": [],
   "source": [
    "def month_day_year_to_iso(mdy):\n",
    "    return '{2}-{0}-{1}'.format(*mdy.split('/'))"
   ]
  },
  {
   "cell_type": "code",
   "execution_count": 176,
   "metadata": {},
   "outputs": [],
   "source": [
    "def print_months(month, yr_start, yr_end):\n",
    "    if yr_end - yr_start > 4:\n",
    "        yr_end = yr_start + 4 \n",
    "    return [ ''.join(args) for args in zip(*[pad_cal(yr, month) for yr in range(yr_start, yr_end + 1)]) ]"
   ]
  },
  {
   "cell_type": "markdown",
   "metadata": {},
   "source": [
    "## Important dates taken from the academic calendar found online"
   ]
  },
  {
   "cell_type": "code",
   "execution_count": 61,
   "metadata": {},
   "outputs": [],
   "source": [
    "h_201210 = (('08/20/2012', '12/14/2012'),    # first, last day\n",
    "            ('09/03/2012',                   # Labor day\n",
    "            ('10/22/2012', '10/23/2012'),    # Fall break\n",
    "            ('11/21/2012', '11/25/2012')))   # Thanksgiving\n",
    "\n",
    "h_201220 = (('01/07/2013', '05/03/2013'),    # first, last day\n",
    "            ('01/21/2013',                   # MLK day\n",
    "            ('03/03/2013', '03/10/2013')))   # Spring break\n",
    "\n",
    "h_201230 = (('05/13/2013', '07/19/2013'),    # first, last day\n",
    "            ('05/27/2013',                   # Memorial day\n",
    "            '07/04/2013'))                   # Ind. day\n",
    "\n",
    "h_201310 = (('08/19/2013', '12/13/2013'),\n",
    "            ('09/02/2013',\n",
    "            ('10/21/2013', '10/22/2013'),\n",
    "            ('11/27/2013', '12/01/2013')))\n",
    "\n",
    "h_201320 = (('01/06/2014', '05/02/2014'),\n",
    "            ('01/20/2014',\n",
    "            ('03/09/2014', '03/16/2014')))\n",
    "\n",
    "h_201330 = (('05/12/2014', '07/18/2014'),\n",
    "            ('05/26/2014',\n",
    "            '07/04/2014'))\n",
    "\n",
    "h_201410 = (('08/18/2014', '12/12/2014'),\n",
    "            ('09/01/2014',\n",
    "            ('10/20/2014', '10/21/2014'),\n",
    "            ('11/26/2014', '11/30/2014')))\n",
    "\n",
    "h_201420 = (('01/05/2015', '05/01/2015'),\n",
    "            ('01/19/2015',\n",
    "            ('03/01/2015', '03/08/2015')))\n",
    "\n",
    "h_201430 = (('05/11/2015', '07/17/2015'),\n",
    "            ('05/25/2015',\n",
    "            '07/04/2015'))\n",
    "\n",
    "h_201510 = (('08/24/2015', '12/18/2015'),\n",
    "            ('09/07/2015',\n",
    "            ('10/12/2015', '10/13/2015'),\n",
    "            ('11/25/2015', '11/29/2015')))\n",
    "\n",
    "h_201520 = (('01/11/2016', '05/06/2016'),\n",
    "            ('01/18/2016',\n",
    "            ('03/06/2016', '03/13/2016')))\n",
    "\n",
    "h_201530 = (('05/16/2016', '07/22/2016'),\n",
    "            ('05/30/2016',\n",
    "            '07/04/2016'))\n",
    "\n",
    "h_201610 = (('08/22/2016', '12/16/2016'),\n",
    "            ('09/05/2016',\n",
    "            ('10/10/2016', '10/11/2016'),\n",
    "            ('11/23/2016', '11/27/2016')))\n",
    "\n",
    "h_201620 = (('01/09/2017', '05/05/2017'),\n",
    "            ('01/16/2017',\n",
    "            ('03/05/2017', '03/12/2017')))\n",
    "\n",
    "h_201630 = (('05/15/2017', '07/21/2017'),\n",
    "            ('05/29/2017',\n",
    "            '07/04/2017'))\n",
    "\n",
    "h_201710 = (('08/21/2017', '12/15/2017'),\n",
    "            ('09/04/2017',\n",
    "            ('10/09/2017', '10/10/2017'),\n",
    "            ('11/22/2017', '11/26/2017')))\n",
    "\n",
    "h_201720 = (('01/08/2018', '05/04/2018'),\n",
    "            ('01/15/2018',\n",
    "            ('03/04/2018', '03/11/2018')))\n",
    "\n",
    "h_201730 = (('05/14/2018', '07/20/2018'),\n",
    "            ('05/28/2018',\n",
    "            '07/04/2018'))\n",
    "\n",
    "h_201810 = (('08/20/2018', '12/14/2018'),\n",
    "            ('09/03/2018',\n",
    "            ('10/08/2018', '10/09/2018'),\n",
    "            ('11/21/2018', '11/25/2018')))\n",
    "\n",
    "h_201820 = (('01/07/2019', '05/03/2019'),\n",
    "            ('01/21/2019',\n",
    "            ('03/03/2019', '03/10/2019')))\n",
    "\n",
    "h_201830 = (('05/13/2019', '07/19/2019'),\n",
    "            ('05/27/2019',\n",
    "            '07/04/2019'))\n",
    "\n",
    "h_201910 = (('08/19/2019', '12/13/2019'),\n",
    "            ('09/02/2019',\n",
    "            ('10/07/2019', '10/08/2019'),\n",
    "            ('11/27/2019', '12/01/2019')))\n",
    "\n",
    "h_201920 = (('01/06/2020', '05/01/2020'),\n",
    "            ('01/21/2020',\n",
    "            ('03/03/2020', '03/10/2020')))\n",
    "\n",
    "h_201930 = (('05/11/2020', '07/17/2020'),\n",
    "            ('05/27/2020',\n",
    "            '07/04/2020'))"
   ]
  },
  {
   "cell_type": "code",
   "execution_count": 104,
   "metadata": {},
   "outputs": [],
   "source": [
    "years = range(2012, 2020)\n",
    "\n",
    "first_days = []\n",
    "last_days = []\n",
    "labor_days = []\n",
    "fall_break = []\n",
    "thanks = []\n",
    "days = {}\n",
    "\n",
    "semesters = [10, 20, 30]\n",
    "\n",
    "for yr in years:\n",
    "    for term in [100*yr + 10]:\n",
    "        h_code = 'h_' + str(term)\n",
    "        if h_code in locals().keys():\n",
    "            h_var = locals()[h_code]\n",
    "            first, last = h_var[0]\n",
    "            first_days.append(datetime.date.fromisoformat(month_day_year_to_iso(first)))\n",
    "            last_days.append(datetime.date.fromisoformat(month_day_year_to_iso(last)))\n",
    "            labor_days.append(datetime.date.fromisoformat(month_day_year_to_iso(h_var[1][0])))\n",
    "            \n",
    "            brk = list(map(datetime.date.fromisoformat, map(month_day_year_to_iso, h_var[1][1])))\n",
    "            fall_break.append(brk)\n",
    "            \n",
    "            brk = list(map(datetime.date.fromisoformat, map(month_day_year_to_iso, h_var[1][2])))\n",
    "            thanks.append(brk)"
   ]
  },
  {
   "cell_type": "code",
   "execution_count": 94,
   "metadata": {},
   "outputs": [
    {
     "data": {
      "text/plain": [
       "[datetime.date(2019, 10, 7), datetime.date(2019, 10, 8)]"
      ]
     },
     "execution_count": 94,
     "metadata": {},
     "output_type": "execute_result"
    }
   ],
   "source": [
    "list(map(datetime.date.fromisoformat, map(month_day_year_to_iso, h_var[1][1])))"
   ]
  },
  {
   "cell_type": "code",
   "execution_count": 45,
   "metadata": {},
   "outputs": [],
   "source": [
    "def pad_cal(yr, month, width=24):\n",
    "    \"\"\"Pad calendar string to print nicely\"\"\"\n",
    "    return [ ln.ljust(width, ' ') for ln in calendar.month(yr, month).split('\\n') ]"
   ]
  },
  {
   "cell_type": "markdown",
   "metadata": {},
   "source": [
    "## Important registration dates\n",
    "* \"Late\" registration open for the first week of class (Mon-Fri)\n",
    "* Withdraw period ends the Wednesday after Fall Break"
   ]
  },
  {
   "cell_type": "markdown",
   "metadata": {},
   "source": [
    "## TermDates\n",
    "Rules determining important dates for each term:\n",
    "- Start date\n",
    "    - Fall: Second to last Monday of August\n",
    "    - Spring:\n",
    "    - Summer:\n",
    "- End date\n",
    "    - Fall: 116 days from the start\n",
    "- Breaks/Holidays\n",
    "    - Fall: \n",
    "        - Fall break: Second to last Monday of Oct and following Tues\n",
    "        - Thanksgiving:\n",
    "        - Labor day\n",
    "    - Spring:\n",
    "        - Spring break:\n",
    "- Finals week is the last Tues-Fri of the term\n",
    "- Midterm grades due by the end of the eighth week of semester\n",
    "- Final grades dues the monday after semester ends\n",
    "- Late registration window is the first week of classes\n",
    "- Withdraw deadline\n",
    "    - Fall: Wed after Fall break\n",
    "    - Spring: \n",
    "    - Summer:"
   ]
  },
  {
   "cell_type": "markdown",
   "metadata": {},
   "source": [
    "## First day of fall term is the second to last Monday of August "
   ]
  },
  {
   "cell_type": "code",
   "execution_count": 195,
   "metadata": {},
   "outputs": [
    {
     "data": {
      "text/plain": [
       "True"
      ]
     },
     "execution_count": 195,
     "metadata": {},
     "output_type": "execute_result"
    }
   ],
   "source": [
    "isinstance(datetime.timedelta(days=-1), datetime.timedelta)"
   ]
  },
  {
   "cell_type": "code",
   "execution_count": 69,
   "metadata": {},
   "outputs": [
    {
     "data": {
      "text/plain": [
       "[0, 0, 0, 0, 0, 0, 0, 0]"
      ]
     },
     "execution_count": 69,
     "metadata": {},
     "output_type": "execute_result"
    }
   ],
   "source": [
    "# first day is always a monday\n",
    "[ d.weekday() for d in first_days ]"
   ]
  },
  {
   "cell_type": "code",
   "execution_count": 55,
   "metadata": {},
   "outputs": [
    {
     "data": {
      "text/plain": [
       "[datetime.date(2012, 8, 19),\n",
       " datetime.date(2013, 8, 19),\n",
       " datetime.date(2014, 8, 18),\n",
       " datetime.date(2015, 8, 24),\n",
       " datetime.date(2016, 8, 22),\n",
       " datetime.date(2017, 8, 21),\n",
       " datetime.date(2018, 8, 20),\n",
       " datetime.date(2019, 8, 19)]"
      ]
     },
     "execution_count": 55,
     "metadata": {},
     "output_type": "execute_result"
    }
   ],
   "source": [
    "first_days"
   ]
  },
  {
   "cell_type": "code",
   "execution_count": 145,
   "metadata": {},
   "outputs": [
    {
     "data": {
      "text/plain": [
       "[datetime.datetime(2012, 8, 27, 0, 0),\n",
       " datetime.datetime(2013, 8, 26, 0, 0),\n",
       " datetime.datetime(2014, 8, 25, 0, 0),\n",
       " datetime.datetime(2015, 8, 31, 0, 0),\n",
       " datetime.datetime(2016, 8, 29, 0, 0)]"
      ]
     },
     "execution_count": 145,
     "metadata": {},
     "output_type": "execute_result"
    }
   ],
   "source": [
    "list(rrule.rrule(rrule.YEARLY, dtstart=datetime.date(2012, 8, 1), count=5, bymonth=8, byweekday=rrule.MO(-1)))"
   ]
  },
  {
   "cell_type": "code",
   "execution_count": 51,
   "metadata": {},
   "outputs": [
    {
     "data": {
      "text/plain": [
       "['    August 2012             August 2013             August 2014             August 2015             August 2016         ',\n",
       " 'Mo Tu We Th Fr Sa Su    Mo Tu We Th Fr Sa Su    Mo Tu We Th Fr Sa Su    Mo Tu We Th Fr Sa Su    Mo Tu We Th Fr Sa Su    ',\n",
       " '       1  2  3  4  5              1  2  3  4                 1  2  3                    1  2     1  2  3  4  5  6  7    ',\n",
       " ' 6  7  8  9 10 11 12     5  6  7  8  9 10 11     4  5  6  7  8  9 10     3  4  5  6  7  8  9     8  9 10 11 12 13 14    ',\n",
       " '13 14 15 16 17 18 19    12 13 14 15 16 17 18    11 12 13 14 15 16 17    10 11 12 13 14 15 16    15 16 17 18 19 20 21    ',\n",
       " '20 21 22 23 24 25 26    19 20 21 22 23 24 25    18 19 20 21 22 23 24    17 18 19 20 21 22 23    22 23 24 25 26 27 28    ',\n",
       " '27 28 29 30 31          26 27 28 29 30 31       25 26 27 28 29 30 31    24 25 26 27 28 29 30    29 30 31                ',\n",
       " '                                                                        31                                              ']"
      ]
     },
     "execution_count": 51,
     "metadata": {},
     "output_type": "execute_result"
    }
   ],
   "source": [
    "[ ''.join(args) for args in zip(*[pad_cal(yr, 8) for yr in range(2012, 2017)]) ]"
   ]
  },
  {
   "cell_type": "code",
   "execution_count": 56,
   "metadata": {
    "scrolled": true
   },
   "outputs": [
    {
     "data": {
      "text/plain": [
       "['    August 2017             August 2018             August 2019             August 2020         ',\n",
       " 'Mo Tu We Th Fr Sa Su    Mo Tu We Th Fr Sa Su    Mo Tu We Th Fr Sa Su    Mo Tu We Th Fr Sa Su    ',\n",
       " '    1  2  3  4  5  6           1  2  3  4  5              1  2  3  4                    1  2    ',\n",
       " ' 7  8  9 10 11 12 13     6  7  8  9 10 11 12     5  6  7  8  9 10 11     3  4  5  6  7  8  9    ',\n",
       " '14 15 16 17 18 19 20    13 14 15 16 17 18 19    12 13 14 15 16 17 18    10 11 12 13 14 15 16    ',\n",
       " '21 22 23 24 25 26 27    20 21 22 23 24 25 26    19 20 21 22 23 24 25    17 18 19 20 21 22 23    ',\n",
       " '28 29 30 31             27 28 29 30 31          26 27 28 29 30 31       24 25 26 27 28 29 30    ',\n",
       " '                                                                        31                      ']"
      ]
     },
     "execution_count": 56,
     "metadata": {},
     "output_type": "execute_result"
    }
   ],
   "source": [
    "[ ''.join(args) for args in zip(*[pad_cal(yr, 8) for yr in range(2017, 2021)]) ]"
   ]
  },
  {
   "cell_type": "code",
   "execution_count": 103,
   "metadata": {},
   "outputs": [
    {
     "data": {
      "text/plain": [
       "[datetime.date(2012, 10, 12),\n",
       " datetime.date(2013, 10, 11),\n",
       " datetime.date(2014, 10, 10),\n",
       " datetime.date(2015, 10, 16),\n",
       " datetime.date(2016, 10, 14),\n",
       " datetime.date(2017, 10, 13),\n",
       " datetime.date(2018, 10, 12),\n",
       " datetime.date(2019, 10, 11)]"
      ]
     },
     "execution_count": 103,
     "metadata": {},
     "output_type": "execute_result"
    }
   ],
   "source": [
    "# midterm grades are due at the end of the eighth week of classes. \n",
    "# first of class is week=1, so add 4 days and 7 weeks from first day.\n",
    "[ d + datetime.timedelta(weeks=7) + datetime.timedelta(days=4) for d in first_days ]"
   ]
  },
  {
   "cell_type": "markdown",
   "metadata": {},
   "source": [
    "## Spring starts 24 days after fall ends"
   ]
  },
  {
   "cell_type": "code",
   "execution_count": 182,
   "metadata": {},
   "outputs": [],
   "source": [
    "spring_first = [ datetime.date.fromisoformat(d) for d in ['2013-01-07',\n",
    "                                                        '2014-01-06',\n",
    "                                                        '2015-01-05',\n",
    "                                                        '2016-01-11',\n",
    "                                                        '2017-01-09',\n",
    "                                                        '2018-01-08',\n",
    "                                                        '2019-01-07']\n",
    "               ]\n",
    "\n",
    "spring_last = [ datetime.date.fromisoformat(d) for d in ['2013-05-03',\n",
    "                                                        '2014-05-02',\n",
    "                                                        '2015-05-01',\n",
    "                                                        '2016-05-06',\n",
    "                                                        '2017-05-05',\n",
    "                                                        '2018-05-04',\n",
    "                                                        '2019-05-03']\n",
    "               ]"
   ]
  },
  {
   "cell_type": "code",
   "execution_count": 183,
   "metadata": {},
   "outputs": [
    {
     "data": {
      "text/plain": [
       "[24, 24, 24, 24, 24, 24, 24]"
      ]
     },
     "execution_count": 183,
     "metadata": {},
     "output_type": "execute_result"
    }
   ],
   "source": [
    "# spring starts 24 days after fall ends\n",
    "[ (y - x).days for x,y in zip(last_days, spring_first) ]"
   ]
  },
  {
   "cell_type": "code",
   "execution_count": 184,
   "metadata": {},
   "outputs": [
    {
     "data": {
      "text/plain": [
       "[116, 116, 116, 116, 116, 116, 116]"
      ]
     },
     "execution_count": 184,
     "metadata": {},
     "output_type": "execute_result"
    }
   ],
   "source": [
    "# spring term is 116 days long!\n",
    "[ (y - x).days for x,y in zip(spring_first, spring_last) ]"
   ]
  },
  {
   "cell_type": "code",
   "execution_count": 175,
   "metadata": {},
   "outputs": [
    {
     "data": {
      "text/plain": [
       "['    January 2012            January 2013            January 2014            January 2015            January 2016        ',\n",
       " 'Mo Tu We Th Fr Sa Su    Mo Tu We Th Fr Sa Su    Mo Tu We Th Fr Sa Su    Mo Tu We Th Fr Sa Su    Mo Tu We Th Fr Sa Su    ',\n",
       " '                   1        1  2  3  4  5  6           1  2  3  4  5              1  2  3  4                 1  2  3    ',\n",
       " ' 2  3  4  5  6  7  8     7  8  9 10 11 12 13     6  7  8  9 10 11 12     5  6  7  8  9 10 11     4  5  6  7  8  9 10    ',\n",
       " ' 9 10 11 12 13 14 15    14 15 16 17 18 19 20    13 14 15 16 17 18 19    12 13 14 15 16 17 18    11 12 13 14 15 16 17    ',\n",
       " '16 17 18 19 20 21 22    21 22 23 24 25 26 27    20 21 22 23 24 25 26    19 20 21 22 23 24 25    18 19 20 21 22 23 24    ',\n",
       " '23 24 25 26 27 28 29    28 29 30 31             27 28 29 30 31          26 27 28 29 30 31       25 26 27 28 29 30 31    ',\n",
       " '30 31                                                                                                                   ']"
      ]
     },
     "execution_count": 175,
     "metadata": {},
     "output_type": "execute_result"
    }
   ],
   "source": [
    "print_months(1, 2012, 2016)"
   ]
  },
  {
   "cell_type": "code",
   "execution_count": 177,
   "metadata": {},
   "outputs": [
    {
     "data": {
      "text/plain": [
       "['    January 2017            January 2018            January 2019            January 2020            January 2021        ',\n",
       " 'Mo Tu We Th Fr Sa Su    Mo Tu We Th Fr Sa Su    Mo Tu We Th Fr Sa Su    Mo Tu We Th Fr Sa Su    Mo Tu We Th Fr Sa Su    ',\n",
       " '                   1     1  2  3  4  5  6  7        1  2  3  4  5  6           1  2  3  4  5                 1  2  3    ',\n",
       " ' 2  3  4  5  6  7  8     8  9 10 11 12 13 14     7  8  9 10 11 12 13     6  7  8  9 10 11 12     4  5  6  7  8  9 10    ',\n",
       " ' 9 10 11 12 13 14 15    15 16 17 18 19 20 21    14 15 16 17 18 19 20    13 14 15 16 17 18 19    11 12 13 14 15 16 17    ',\n",
       " '16 17 18 19 20 21 22    22 23 24 25 26 27 28    21 22 23 24 25 26 27    20 21 22 23 24 25 26    18 19 20 21 22 23 24    ',\n",
       " '23 24 25 26 27 28 29    29 30 31                28 29 30 31             27 28 29 30 31          25 26 27 28 29 30 31    ',\n",
       " '30 31                                                                                                                   ']"
      ]
     },
     "execution_count": 177,
     "metadata": {},
     "output_type": "execute_result"
    }
   ],
   "source": [
    "print_months(1, 2017, 2021)"
   ]
  },
  {
   "cell_type": "markdown",
   "metadata": {},
   "source": [
    "## Length of term"
   ]
  },
  {
   "cell_type": "code",
   "execution_count": 71,
   "metadata": {},
   "outputs": [
    {
     "data": {
      "text/plain": [
       "[116, 116, 116, 116, 116, 116, 116, 116]"
      ]
     },
     "execution_count": 71,
     "metadata": {},
     "output_type": "execute_result"
    }
   ],
   "source": [
    "# terms are always 116 days long\n",
    "[ (y - x).days for x,y in zip(first_days, last_days)]"
   ]
  },
  {
   "cell_type": "markdown",
   "metadata": {},
   "source": [
    "## Last day of fall term is 116 days after the start \n",
    "* Term always ends on a friday, last day of class is the preceding monday."
   ]
  },
  {
   "cell_type": "code",
   "execution_count": 78,
   "metadata": {},
   "outputs": [
    {
     "data": {
      "text/plain": [
       "datetime.date(2012, 12, 14)"
      ]
     },
     "execution_count": 78,
     "metadata": {},
     "output_type": "execute_result"
    }
   ],
   "source": [
    "first_days[0] + datetime.timedelta(days=116)"
   ]
  },
  {
   "cell_type": "code",
   "execution_count": 83,
   "metadata": {},
   "outputs": [
    {
     "data": {
      "text/plain": [
       "'datetime.date(2020, 4, 1)'"
      ]
     },
     "execution_count": 83,
     "metadata": {},
     "output_type": "execute_result"
    }
   ],
   "source": [
    "d.__repr__()"
   ]
  },
  {
   "cell_type": "code",
   "execution_count": 68,
   "metadata": {},
   "outputs": [
    {
     "data": {
      "text/plain": [
       "[4, 4, 4, 4, 4, 4, 4, 4]"
      ]
     },
     "execution_count": 68,
     "metadata": {},
     "output_type": "execute_result"
    }
   ],
   "source": [
    "# Last day is always a friday\n",
    "[ d.weekday() for d in last_days ]"
   ]
  },
  {
   "cell_type": "code",
   "execution_count": 84,
   "metadata": {},
   "outputs": [
    {
     "data": {
      "text/plain": [
       "[('2012-12-14', '2012-12-14'),\n",
       " ('2013-12-13', '2013-12-13'),\n",
       " ('2014-12-12', '2014-12-12'),\n",
       " ('2015-12-18', '2015-12-18'),\n",
       " ('2016-12-16', '2016-12-16'),\n",
       " ('2017-12-15', '2017-12-15'),\n",
       " ('2018-12-14', '2018-12-14'),\n",
       " ('2019-12-13', '2019-12-13')]"
      ]
     },
     "execution_count": 84,
     "metadata": {},
     "output_type": "execute_result"
    }
   ],
   "source": [
    "[ (d2.__str__(), (d1 + datetime.timedelta(days=116)).__str__()) for d1, d2 in zip(first_days, last_days) ]"
   ]
  },
  {
   "cell_type": "markdown",
   "metadata": {},
   "source": [
    "## Do holidays line up with official ones?\n",
    "\n",
    "* Labor day always seems to be the same"
   ]
  },
  {
   "cell_type": "code",
   "execution_count": 89,
   "metadata": {},
   "outputs": [],
   "source": [
    "d = labor_days[0]"
   ]
  },
  {
   "cell_type": "code",
   "execution_count": 90,
   "metadata": {},
   "outputs": [],
   "source": [
    "us_hol = holidays.UnitedStates()"
   ]
  },
  {
   "cell_type": "code",
   "execution_count": 92,
   "metadata": {},
   "outputs": [
    {
     "data": {
      "text/plain": [
       "[True, True, True, True, True, True, True, True]"
      ]
     },
     "execution_count": 92,
     "metadata": {},
     "output_type": "execute_result"
    }
   ],
   "source": [
    "[ d in us_hol for d in labor_days ]"
   ]
  },
  {
   "cell_type": "markdown",
   "metadata": {},
   "source": [
    "## Fall break starts second to last Monday of October and lasts two days"
   ]
  },
  {
   "cell_type": "code",
   "execution_count": 99,
   "metadata": {},
   "outputs": [
    {
     "data": {
      "text/plain": [
       "[[datetime.date(2012, 10, 22), datetime.date(2012, 10, 23)],\n",
       " [datetime.date(2013, 10, 21), datetime.date(2013, 10, 22)],\n",
       " [datetime.date(2014, 10, 20), datetime.date(2014, 10, 21)],\n",
       " [datetime.date(2015, 10, 12), datetime.date(2015, 10, 13)],\n",
       " [datetime.date(2016, 10, 10), datetime.date(2016, 10, 11)],\n",
       " [datetime.date(2017, 10, 9), datetime.date(2017, 10, 10)],\n",
       " [datetime.date(2018, 10, 8), datetime.date(2018, 10, 9)],\n",
       " [datetime.date(2019, 10, 7), datetime.date(2019, 10, 8)]]"
      ]
     },
     "execution_count": 99,
     "metadata": {},
     "output_type": "execute_result"
    }
   ],
   "source": [
    "# I must have a bunch of typos\n",
    "fall_break"
   ]
  },
  {
   "cell_type": "code",
   "execution_count": 97,
   "metadata": {
    "scrolled": true
   },
   "outputs": [
    {
     "data": {
      "text/plain": [
       "['    October 2012            October 2013            October 2014            October 2015            October 2016        ',\n",
       " 'Mo Tu We Th Fr Sa Su    Mo Tu We Th Fr Sa Su    Mo Tu We Th Fr Sa Su    Mo Tu We Th Fr Sa Su    Mo Tu We Th Fr Sa Su    ',\n",
       " ' 1  2  3  4  5  6  7        1  2  3  4  5  6           1  2  3  4  5              1  2  3  4                    1  2    ',\n",
       " ' 8  9 10 11 12 13 14     7  8  9 10 11 12 13     6  7  8  9 10 11 12     5  6  7  8  9 10 11     3  4  5  6  7  8  9    ',\n",
       " '15 16 17 18 19 20 21    14 15 16 17 18 19 20    13 14 15 16 17 18 19    12 13 14 15 16 17 18    10 11 12 13 14 15 16    ',\n",
       " '22 23 24 25 26 27 28    21 22 23 24 25 26 27    20 21 22 23 24 25 26    19 20 21 22 23 24 25    17 18 19 20 21 22 23    ',\n",
       " '29 30 31                28 29 30 31             27 28 29 30 31          26 27 28 29 30 31       24 25 26 27 28 29 30    ',\n",
       " '                                                                                                31                      ']"
      ]
     },
     "execution_count": 97,
     "metadata": {},
     "output_type": "execute_result"
    }
   ],
   "source": [
    "[ ''.join(args) for args in zip(*[pad_cal(yr, 10) for yr in range(2012, 2017)]) ]"
   ]
  },
  {
   "cell_type": "code",
   "execution_count": 98,
   "metadata": {
    "scrolled": false
   },
   "outputs": [
    {
     "data": {
      "text/plain": [
       "['    October 2017            October 2018            October 2019            October 2020        ',\n",
       " 'Mo Tu We Th Fr Sa Su    Mo Tu We Th Fr Sa Su    Mo Tu We Th Fr Sa Su    Mo Tu We Th Fr Sa Su    ',\n",
       " '                   1     1  2  3  4  5  6  7        1  2  3  4  5  6              1  2  3  4    ',\n",
       " ' 2  3  4  5  6  7  8     8  9 10 11 12 13 14     7  8  9 10 11 12 13     5  6  7  8  9 10 11    ',\n",
       " ' 9 10 11 12 13 14 15    15 16 17 18 19 20 21    14 15 16 17 18 19 20    12 13 14 15 16 17 18    ',\n",
       " '16 17 18 19 20 21 22    22 23 24 25 26 27 28    21 22 23 24 25 26 27    19 20 21 22 23 24 25    ',\n",
       " '23 24 25 26 27 28 29    29 30 31                28 29 30 31             26 27 28 29 30 31       ',\n",
       " '30 31                                                                                           ']"
      ]
     },
     "execution_count": 98,
     "metadata": {},
     "output_type": "execute_result"
    }
   ],
   "source": [
    "[ ''.join(args) for args in zip(*[pad_cal(yr, 10) for yr in range(2017, 2021)]) ]"
   ]
  },
  {
   "cell_type": "markdown",
   "metadata": {},
   "source": [
    "## Thanksgiving break\n",
    "* Official thanksgiving is always the 4th Thursday of November\n",
    "* Thanksgiving break is always: the Wed before Thanksgiving to the Sunday after"
   ]
  },
  {
   "cell_type": "code",
   "execution_count": 121,
   "metadata": {},
   "outputs": [
    {
     "data": {
      "text/plain": [
       "['Thanksgiving', 'Thanksgiving', 'Thanksgiving', 'Thanksgiving']"
      ]
     },
     "execution_count": 121,
     "metadata": {},
     "output_type": "execute_result"
    }
   ],
   "source": [
    "[us_hol[d] for d in rrule.rrule(rrule.YEARLY, count=4, bymonth=11, byweekday=rrule.TH(4))]"
   ]
  },
  {
   "cell_type": "code",
   "execution_count": 188,
   "metadata": {},
   "outputs": [
    {
     "data": {
      "text/plain": [
       "[datetime.datetime(2012, 11, 21, 0, 0),\n",
       " datetime.datetime(2013, 11, 27, 0, 0),\n",
       " datetime.datetime(2014, 11, 26, 0, 0),\n",
       " datetime.datetime(2015, 11, 25, 0, 0)]"
      ]
     },
     "execution_count": 188,
     "metadata": {},
     "output_type": "execute_result"
    }
   ],
   "source": [
    "[ d - datetime.timedelta(days=1) for d in rrule.rrule(rrule.YEARLY, dtstart=datetime.date(2012, 1, 1), count=4, bymonth=11, byweekday=rrule.TH(4))]"
   ]
  },
  {
   "cell_type": "code",
   "execution_count": 191,
   "metadata": {},
   "outputs": [
    {
     "data": {
      "text/plain": [
       "datetime.date(2012, 11, 22)"
      ]
     },
     "execution_count": 191,
     "metadata": {},
     "output_type": "execute_result"
    }
   ],
   "source": [
    "d.date()"
   ]
  },
  {
   "cell_type": "code",
   "execution_count": 125,
   "metadata": {},
   "outputs": [],
   "source": [
    "thk_rule = rrule.rrule(rrule.YEARLY, dtstart=datetime.date(2012, 1, 1), count=4, bymonth=11, byweekday=rrule.TH(4))"
   ]
  },
  {
   "cell_type": "code",
   "execution_count": 139,
   "metadata": {},
   "outputs": [
    {
     "data": {
      "text/plain": [
       "2020"
      ]
     },
     "execution_count": 139,
     "metadata": {},
     "output_type": "execute_result"
    }
   ],
   "source": [
    "datetime.datetime.now().year"
   ]
  },
  {
   "cell_type": "code",
   "execution_count": 143,
   "metadata": {},
   "outputs": [
    {
     "data": {
      "text/plain": [
       "{'Fall': 10, 'Spring': 20, 'Summer': 30}"
      ]
     },
     "execution_count": 143,
     "metadata": {},
     "output_type": "execute_result"
    }
   ],
   "source": [
    "semesters = ['Fall', 'Spring', 'Summer']\n",
    "{ sem: 10 + x for sem, x in zip(semesters, range(0, 30, 10)) }"
   ]
  },
  {
   "cell_type": "code",
   "execution_count": 109,
   "metadata": {},
   "outputs": [
    {
     "data": {
      "text/plain": [
       "[93, 100, 100, 93, 93, 93, 93, 100]"
      ]
     },
     "execution_count": 109,
     "metadata": {},
     "output_type": "execute_result"
    }
   ],
   "source": [
    "[ (y[0] - x).days for x,y in zip(first_days, thanks) ]"
   ]
  },
  {
   "cell_type": "code",
   "execution_count": 110,
   "metadata": {},
   "outputs": [
    {
     "data": {
      "text/plain": [
       "[[datetime.date(2012, 11, 21), datetime.date(2012, 11, 25)],\n",
       " [datetime.date(2013, 11, 27), datetime.date(2013, 12, 1)],\n",
       " [datetime.date(2014, 11, 26), datetime.date(2014, 11, 30)],\n",
       " [datetime.date(2015, 11, 25), datetime.date(2015, 11, 29)],\n",
       " [datetime.date(2016, 11, 23), datetime.date(2016, 11, 27)],\n",
       " [datetime.date(2017, 11, 22), datetime.date(2017, 11, 26)],\n",
       " [datetime.date(2018, 11, 21), datetime.date(2018, 11, 25)],\n",
       " [datetime.date(2019, 11, 27), datetime.date(2019, 12, 1)]]"
      ]
     },
     "execution_count": 110,
     "metadata": {},
     "output_type": "execute_result"
    }
   ],
   "source": [
    "thanks"
   ]
  },
  {
   "cell_type": "code",
   "execution_count": 106,
   "metadata": {
    "scrolled": true
   },
   "outputs": [
    {
     "data": {
      "text/plain": [
       "['   November 2012           November 2013           November 2014           November 2015           November 2016        ',\n",
       " 'Mo Tu We Th Fr Sa Su    Mo Tu We Th Fr Sa Su    Mo Tu We Th Fr Sa Su    Mo Tu We Th Fr Sa Su    Mo Tu We Th Fr Sa Su    ',\n",
       " '          1  2  3  4                 1  2  3                    1  2                       1        1  2  3  4  5  6    ',\n",
       " ' 5  6  7  8  9 10 11     4  5  6  7  8  9 10     3  4  5  6  7  8  9     2  3  4  5  6  7  8     7  8  9 10 11 12 13    ',\n",
       " '12 13 14 15 16 17 18    11 12 13 14 15 16 17    10 11 12 13 14 15 16     9 10 11 12 13 14 15    14 15 16 17 18 19 20    ',\n",
       " '19 20 21 22 23 24 25    18 19 20 21 22 23 24    17 18 19 20 21 22 23    16 17 18 19 20 21 22    21 22 23 24 25 26 27    ',\n",
       " '26 27 28 29 30          25 26 27 28 29 30       24 25 26 27 28 29 30    23 24 25 26 27 28 29    28 29 30                ',\n",
       " '                                                                        30                                              ']"
      ]
     },
     "execution_count": 106,
     "metadata": {},
     "output_type": "execute_result"
    }
   ],
   "source": [
    "[ ''.join(args) for args in zip(*[pad_cal(yr, 11) for yr in range(2012, 2017)]) ]"
   ]
  },
  {
   "cell_type": "code",
   "execution_count": 107,
   "metadata": {
    "scrolled": false
   },
   "outputs": [
    {
     "data": {
      "text/plain": [
       "['   November 2017           November 2018           November 2019           November 2020        ',\n",
       " 'Mo Tu We Th Fr Sa Su    Mo Tu We Th Fr Sa Su    Mo Tu We Th Fr Sa Su    Mo Tu We Th Fr Sa Su    ',\n",
       " '       1  2  3  4  5              1  2  3  4                 1  2  3                       1    ',\n",
       " ' 6  7  8  9 10 11 12     5  6  7  8  9 10 11     4  5  6  7  8  9 10     2  3  4  5  6  7  8    ',\n",
       " '13 14 15 16 17 18 19    12 13 14 15 16 17 18    11 12 13 14 15 16 17     9 10 11 12 13 14 15    ',\n",
       " '20 21 22 23 24 25 26    19 20 21 22 23 24 25    18 19 20 21 22 23 24    16 17 18 19 20 21 22    ',\n",
       " '27 28 29 30             26 27 28 29 30          25 26 27 28 29 30       23 24 25 26 27 28 29    ',\n",
       " '                                                                        30                      ']"
      ]
     },
     "execution_count": 107,
     "metadata": {},
     "output_type": "execute_result"
    }
   ],
   "source": [
    "[ ''.join(args) for args in zip(*[pad_cal(yr, 11) for yr in range(2017, 2021)]) ]"
   ]
  }
 ],
 "metadata": {
  "kernelspec": {
   "display_name": "Python 3",
   "language": "python",
   "name": "python3"
  },
  "language_info": {
   "codemirror_mode": {
    "name": "ipython",
    "version": 3
   },
   "file_extension": ".py",
   "mimetype": "text/x-python",
   "name": "python",
   "nbconvert_exporter": "python",
   "pygments_lexer": "ipython3",
   "version": "3.7.6"
  }
 },
 "nbformat": 4,
 "nbformat_minor": 4
}
